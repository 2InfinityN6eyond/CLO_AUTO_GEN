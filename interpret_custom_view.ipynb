{
 "cells": [
  {
   "cell_type": "code",
   "execution_count": null,
   "metadata": {},
   "outputs": [],
   "source": []
  },
  {
   "cell_type": "code",
   "execution_count": null,
   "metadata": {},
   "outputs": [],
   "source": [
    "\n",
    "{\n",
    "\"customViewList\" : [ {\n",
    "\"cameraMatrix\" : [ 1, 0, 0, 0.002808, 0, 1, 0, -881.048, 0, 0, 1, -8030.7 ],\n",
    "\"fov\" : 15,\n",
    "\"name\" : \"Custom_View_1\"\n",
    "}, {\n",
    "\"cameraMatrix\" : [ -1, 0, 0, -0.003507, 0, 1, 0, -881.048, 0, 0, -1, -7969.3 ],\n",
    "\"fov\" : 15,\n",
    "\"name\" : \"Custom_View_2\"\n",
    "}, {\n",
    "\"cameraMatrix\" : [ 0.707107, 0, 0.707107, -21.7073, 0, 1, 0, -881.048, -0.707107, 0, 0.707107, -8021.71 ],\n",
    "\"fov\" : 15,\n",
    "\"name\" : \"Custom_View_3\"\n",
    "}, {\n",
    "\"cameraMatrix\" : [ 0.707107, 0, -0.707107, 21.7109, 0, 1, 0, -881.048, 0.707107, 0, 0.707107, -8021.71 ],\n",
    "\"fov\" : 15,\n",
    "\"name\" : \"Custom_View_4\"\n",
    "} ]\n",
    "}\n"
   ]
  },
  {
   "cell_type": "code",
   "execution_count": 1,
   "metadata": {},
   "outputs": [
    {
     "data": {
      "text/plain": [
       "array([-1.00000e+00,  0.00000e+00,  0.00000e+00, -3.50700e-03,\n",
       "        0.00000e+00,  1.00000e+00,  0.00000e+00, -8.81048e+02,\n",
       "        0.00000e+00,  0.00000e+00, -1.00000e+00, -7.96930e+03])"
      ]
     },
     "execution_count": 1,
     "metadata": {},
     "output_type": "execute_result"
    }
   ],
   "source": [
    "import numpy as np\n",
    "\n",
    "np.array([ -1, 0, 0, -0.003507, 0, 1, 0, -881.048, 0, 0, -1, -7969.3 ])\n"
   ]
  },
  {
   "cell_type": "code",
   "execution_count": null,
   "metadata": {},
   "outputs": [],
   "source": []
  },
  {
   "cell_type": "code",
   "execution_count": null,
   "metadata": {},
   "outputs": [],
   "source": []
  },
  {
   "cell_type": "code",
   "execution_count": null,
   "metadata": {},
   "outputs": [],
   "source": []
  },
  {
   "cell_type": "code",
   "execution_count": null,
   "metadata": {},
   "outputs": [],
   "source": []
  },
  {
   "cell_type": "code",
   "execution_count": null,
   "metadata": {},
   "outputs": [],
   "source": []
  },
  {
   "cell_type": "code",
   "execution_count": null,
   "metadata": {},
   "outputs": [],
   "source": []
  }
 ],
 "metadata": {
  "kernelspec": {
   "display_name": "base",
   "language": "python",
   "name": "python3"
  },
  "language_info": {
   "codemirror_mode": {
    "name": "ipython",
    "version": 3
   },
   "file_extension": ".py",
   "mimetype": "text/x-python",
   "name": "python",
   "nbconvert_exporter": "python",
   "pygments_lexer": "ipython3",
   "version": "3.11.7"
  }
 },
 "nbformat": 4,
 "nbformat_minor": 2
}
