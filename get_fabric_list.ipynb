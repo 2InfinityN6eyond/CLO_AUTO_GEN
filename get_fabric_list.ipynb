{
 "cells": [
  {
   "cell_type": "code",
   "execution_count": 1,
   "metadata": {},
   "outputs": [],
   "source": [
    "import os, sys"
   ]
  },
  {
   "cell_type": "code",
   "execution_count": 3,
   "metadata": {},
   "outputs": [],
   "source": [
    "FABRIC_PATH = r\"C:\\Users\\Public\\Documents\\CLO\\Assets\\Materials\\Fabric\""
   ]
  },
  {
   "cell_type": "code",
   "execution_count": 4,
   "metadata": {},
   "outputs": [
    {
     "data": {
      "text/plain": [
       "['(Default for Simulation).zfab',\n",
       " 'Backup',\n",
       " 'Elastic',\n",
       " 'Normal_Map',\n",
       " 'V1_Cut_Sew_Knit_Cotton_Jersey.zfab',\n",
       " 'V1_Cut_Sew_Knit_Cotton_Plush.zfab',\n",
       " 'V1_Cut_Sew_Knit_Cotton_Rayon_Jersey.zfab',\n",
       " 'V1_Cut_Sew_Knit_Cotton_Stretch_Velvet.zfab',\n",
       " 'V1_Cut_Sew_Knit_Fleece_Terry.zfab',\n",
       " 'V1_Cut_Sew_Knit_Rib_1X1_319gsm.zfab',\n",
       " 'V1_Cut_Sew_Knit_Rib_2X2_468gsm.zfab',\n",
       " 'V1_Cut_Sew_Knit_Silk_Knit_Jersey.zfab',\n",
       " 'V1_Cut_Sew_Knit_Terry.zfab',\n",
       " 'V1_Leather_Lambskin.zfab',\n",
       " 'V1_Woven_Cotton_14_Wale_Corduroy.zfab',\n",
       " 'V1_Woven_Cotton_40s_Chambray.zfab',\n",
       " 'V1_Woven_Cotton_40s_Poplin.zfab',\n",
       " 'V1_Woven_Cotton_40s_Stretch_Poplin.zfab',\n",
       " 'V1_Woven_Cotton_50s_Poplin.zfab',\n",
       " 'V1_Woven_Cotton_Gabardine.zfab',\n",
       " 'V1_Woven_Cotton_Sateen.zfab',\n",
       " 'V1_Woven_Cotton_Stretch_Sateen.zfab',\n",
       " 'V1_Woven_Cotton_Twill.zfab',\n",
       " 'V1_Woven_Cotton_Voile.zfab',\n",
       " 'V1_Woven_Denim_Raw.zfab',\n",
       " 'V1_Woven_Denim_Stretch.zfab',\n",
       " 'V1_Woven_Interlining_Polyester_Satin_Lining.zfab',\n",
       " 'V1_Woven_Linen.zfab',\n",
       " 'V1_Woven_Muslin_18X20.zfab',\n",
       " 'V1_Woven_Muslin_22X22.zfab',\n",
       " 'V1_Woven_Muslin_28X36.zfab',\n",
       " 'V1_Woven_Muslin_32X38.zfab',\n",
       " 'V1_Woven_Nylon_Canvas.zfab',\n",
       " 'V1_Woven_Nylon_Featherweight.zfab',\n",
       " 'V1_Woven_Polyester_Taffeta.zfab',\n",
       " 'V1_Woven_Silk_Charmeuse.zfab',\n",
       " 'V1_Woven_Silk_Crepede_Chine.zfab',\n",
       " 'V1_Woven_Silk_Duchess_Satin.zfab',\n",
       " 'V1_Woven_Silk_Faille.zfab',\n",
       " 'V1_Woven_Silk_Taffeta.zfab',\n",
       " 'V1_Woven_Wool.zfab',\n",
       " 'V1_Woven_Wool_Cashmere.zfab',\n",
       " 'V1_Woven_Wool_Melton.zfab',\n",
       " 'V2_Animal_Alternatives_VeganLeather_2.zfab',\n",
       " 'V2_Animal_Alternatives_VeganLeather_3.zfab',\n",
       " 'V2_Cut_Sew_Knit_CrepeKnit_2.zfab',\n",
       " 'V2_Cut_Sew_Knit_CrepeKnit_3.zfab',\n",
       " 'V2_Cut_Sew_Knit_DobbyMesh_3.zfab',\n",
       " 'V2_Cut_Sew_Knit_DoubleKnit_Interlock_1.zfab',\n",
       " 'V2_Cut_Sew_Knit_Fleece_1.zfab',\n",
       " 'V2_Cut_Sew_Knit_Fleece_2.zfab',\n",
       " 'V2_Cut_Sew_Knit_Fleece_3.zfab',\n",
       " 'V2_Cut_Sew_Knit_JacquardKnit_2.zfab',\n",
       " 'V2_Cut_Sew_Knit_JacquardKnit_3.zfab',\n",
       " 'V2_Cut_Sew_Knit_Jersey_1.zfab',\n",
       " 'V2_Cut_Sew_Knit_Jersey_3.zfab',\n",
       " 'V2_Cut_Sew_Knit_LoopTerry_1.zfab',\n",
       " 'V2_Cut_Sew_Knit_LoopTerry_3.zfab',\n",
       " 'V2_Cut_Sew_Knit_Neoprene_Scuba_1.zfab',\n",
       " 'V2_Cut_Sew_Knit_Neoprene_Scuba_3.zfab',\n",
       " 'V2_Cut_Sew_Knit_Pique_1.zfab',\n",
       " 'V2_Cut_Sew_Knit_Pique_3.zfab',\n",
       " 'V2_Cut_Sew_Knit_Ponte_1.zfab',\n",
       " 'V2_Cut_Sew_Knit_QuiltedKnit_3.zfab',\n",
       " 'V2_Cut_Sew_Knit_Rib_1.zfab',\n",
       " 'V2_Cut_Sew_Knit_Tricot_2.zfab',\n",
       " 'V2_Cut_Sew_Knit_Tricot_3.zfab',\n",
       " 'V2_Cut_Sew_Knit_Velour_2.zfab',\n",
       " 'V2_Cut_Sew_Knit_Waffle_3.zfab',\n",
       " 'V2_Woven_Boucle_3.zfab',\n",
       " 'V2_Woven_Canvas_1.zfab',\n",
       " 'V2_Woven_Canvas_2.zfab',\n",
       " 'V2_Woven_Canvas_3.zfab',\n",
       " 'V2_Woven_Denim_1.zfab',\n",
       " 'V2_Woven_Ottoman_1.zfab',\n",
       " 'V2_Woven_Ottoman_2.zfab',\n",
       " 'V2_Woven_Ottoman_3.zfab',\n",
       " 'V2_Woven_Voile_2.zfab']"
      ]
     },
     "execution_count": 4,
     "metadata": {},
     "output_type": "execute_result"
    }
   ],
   "source": [
    "os.listdir(FABRIC_PATH)"
   ]
  },
  {
   "cell_type": "code",
   "execution_count": null,
   "metadata": {},
   "outputs": [],
   "source": []
  },
  {
   "cell_type": "code",
   "execution_count": null,
   "metadata": {},
   "outputs": [],
   "source": []
  },
  {
   "cell_type": "code",
   "execution_count": null,
   "metadata": {},
   "outputs": [],
   "source": []
  }
 ],
 "metadata": {
  "kernelspec": {
   "display_name": "base",
   "language": "python",
   "name": "python3"
  },
  "language_info": {
   "codemirror_mode": {
    "name": "ipython",
    "version": 3
   },
   "file_extension": ".py",
   "mimetype": "text/x-python",
   "name": "python",
   "nbconvert_exporter": "python",
   "pygments_lexer": "ipython3",
   "version": "3.11.7"
  }
 },
 "nbformat": 4,
 "nbformat_minor": 2
}
